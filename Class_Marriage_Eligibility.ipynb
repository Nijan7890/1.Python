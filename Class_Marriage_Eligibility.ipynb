{
 "cells": [
  {
   "cell_type": "code",
   "execution_count": 1,
   "id": "c03eefe6",
   "metadata": {},
   "outputs": [],
   "source": [
    "##SYNTAX - from filename import classname####\n",
    "from ClassFunctions import SubfieldsInAI"
   ]
  },
  {
   "cell_type": "code",
   "execution_count": 2,
   "id": "3b40cd50",
   "metadata": {},
   "outputs": [
    {
     "name": "stdout",
     "output_type": "stream",
     "text": [
      "Your Gender : M\n",
      "Enter the age : 20\n",
      "NOT ELIGIBLE\n"
     ]
    }
   ],
   "source": [
    "SubfieldsInAI.marriage()"
   ]
  },
  {
   "cell_type": "code",
   "execution_count": null,
   "id": "a6a45fe2",
   "metadata": {},
   "outputs": [],
   "source": []
  }
 ],
 "metadata": {
  "kernelspec": {
   "display_name": "Python 3 (ipykernel)",
   "language": "python",
   "name": "python3"
  },
  "language_info": {
   "codemirror_mode": {
    "name": "ipython",
    "version": 3
   },
   "file_extension": ".py",
   "mimetype": "text/x-python",
   "name": "python",
   "nbconvert_exporter": "python",
   "pygments_lexer": "ipython3",
   "version": "3.11.5"
  }
 },
 "nbformat": 4,
 "nbformat_minor": 5
}
