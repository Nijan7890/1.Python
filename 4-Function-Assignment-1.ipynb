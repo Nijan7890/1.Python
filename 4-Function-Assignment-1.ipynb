{
 "cells": [
  {
   "cell_type": "code",
   "execution_count": 52,
   "id": "b1ec53fe",
   "metadata": {},
   "outputs": [],
   "source": [
    "####1.Create a class and function, and list out the items in the list#########\n",
    "def listing():\n",
    "    lists=[\"Machine Learning\",\"Neural Networks\",\"Vision\",\"Robotics\",\"Speech Processing\",\"Natural Language Processing\"]\n",
    "    print (lists[0])\n",
    "    print (lists[1])\n",
    "    print (lists[2])\n",
    "    print (lists[3])\n",
    "    print (lists[4])"
   ]
  },
  {
   "cell_type": "code",
   "execution_count": 53,
   "id": "dd7e448c",
   "metadata": {},
   "outputs": [
    {
     "name": "stdout",
     "output_type": "stream",
     "text": [
      "Sub-fields in AI are:\n",
      "Machine Learning\n",
      "Neural Networks\n",
      "Vision\n",
      "Robotics\n",
      "Speech Processing\n"
     ]
    }
   ],
   "source": [
    "print (\"Sub-fields in AI are:\")\n",
    "listing()"
   ]
  },
  {
   "cell_type": "code",
   "execution_count": 67,
   "id": "a52960f0",
   "metadata": {},
   "outputs": [],
   "source": [
    "####2.Create a function that checks whether the given number is Odd or Even####\n",
    "def oddeven():\n",
    "    num = int(input(\"Enter a number : \"))\n",
    "    if ((num%2)==1):\n",
    "        print (\"odd number\")\n",
    "        message= \"odd number\"\n",
    "    else:\n",
    "        print (num,\"is Even Number\")\n",
    "        message= \"Even Number\"\n",
    "    return message"
   ]
  },
  {
   "cell_type": "code",
   "execution_count": 69,
   "id": "f47a3ee8",
   "metadata": {},
   "outputs": [
    {
     "name": "stdout",
     "output_type": "stream",
     "text": [
      "Enter a number : 52452\n",
      "52452 is a Even Number\n"
     ]
    },
    {
     "data": {
      "text/plain": [
       "'Even Number'"
      ]
     },
     "execution_count": 69,
     "metadata": {},
     "output_type": "execute_result"
    }
   ],
   "source": [
    "oddeven()"
   ]
  },
  {
   "cell_type": "code",
   "execution_count": 11,
   "id": "13dd30a0",
   "metadata": {},
   "outputs": [],
   "source": [
    "####3.Create a function that tells elegibility of \n",
    "#marriage for male and female according to their age limit like 21 for male and 18 for female####\n",
    "def marriage():\n",
    "    Gender = input(\"Your Gender : \")\n",
    "    Gender_Age = int(input(\"Enter the age : \"))\n",
    "    if(Gender==\"M\"):\n",
    "        if(Gender_Age <21):\n",
    "            print(\"NOT ELIGIBLE\")\n",
    "        else:\n",
    "            print(\"ELIGIBLE\")\n",
    "    elif(Gender==\"F\"):\n",
    "        if(Gender_Age <18):\n",
    "            print(\"NOT ELIGIBLE\")\n",
    "        else:\n",
    "            print(\"ELIGIBLE\")"
   ]
  },
  {
   "cell_type": "code",
   "execution_count": 13,
   "id": "ede7fefa",
   "metadata": {},
   "outputs": [
    {
     "name": "stdout",
     "output_type": "stream",
     "text": [
      "Your Gender : M\n",
      "Enter the age : 20\n",
      "NOT ELIGIBLE\n"
     ]
    }
   ],
   "source": [
    "marriage()"
   ]
  },
  {
   "cell_type": "code",
   "execution_count": 14,
   "id": "ab786b50",
   "metadata": {},
   "outputs": [],
   "source": [
    "####4.calculate the percentage of your 10th mark####\n",
    "def marks():\n",
    "    Subject1= int(input(\"Subject1 = \")) #98\n",
    "    Subject2= int(input(\"Subject2 = \")) #87\n",
    "    Subject3= int(input(\"Subject3 = \")) #95\n",
    "    Subject4= int(input(\"Subject4 = \")) #95\n",
    "    Subject5= int(input(\"Subject5 = \")) #93\n",
    "    Total = int(500)\n",
    "    Obtained = Subject1+Subject2+Subject3+Subject4+Subject5\n",
    "    print(\"Obtained = \",Obtained)\n",
    "    percentage = int(Obtained)/int(Total)*100\n",
    "    print(\"percentage :\",percentage)"
   ]
  },
  {
   "cell_type": "code",
   "execution_count": 15,
   "id": "8a117de7",
   "metadata": {},
   "outputs": [
    {
     "name": "stdout",
     "output_type": "stream",
     "text": [
      "Subject1 = 98\n",
      "Subject2 = 87\n",
      "Subject3 = 95\n",
      "Subject4 = 95\n",
      "Subject5 = 93\n",
      "Obtained =  468\n",
      "percentage : 93.60000000000001\n"
     ]
    }
   ],
   "source": [
    "marks()"
   ]
  },
  {
   "cell_type": "code",
   "execution_count": 17,
   "id": "517379aa",
   "metadata": {},
   "outputs": [],
   "source": [
    "####5.print area and perimeter of triangle using class and functions####\n",
    "def triangle():\n",
    "    Height= int(input(\"Height1:\")) #32\n",
    "    Breadth= int(input(\"Breadth:\")) #34\n",
    "    Area_formula= (Height*Breadth)/2\n",
    "    print (\"Area_formula= (Height*Breadth)/2\")\n",
    "    print (\"Area of Triangle : \",Area_formula)\n",
    "    Height1 = int(input(\"Height1:\")) #2\n",
    "    Height2 = int(input(\"Height2:\")) #4\n",
    "    Breadth = int(input(\"Breadth:\")) #4\n",
    "    Perimeter_formula = Height1+Height2+Breadth\n",
    "    print (\"Perimeter_formula = Height1+Height2+Breadth\")\n",
    "    print (\"Perimeter of Triangle : \",Perimeter_formula)"
   ]
  },
  {
   "cell_type": "code",
   "execution_count": 18,
   "id": "dfa869c2",
   "metadata": {},
   "outputs": [
    {
     "name": "stdout",
     "output_type": "stream",
     "text": [
      "Height1:32\n",
      "Breadth:34\n",
      "Area_formula= (Height*Breadth)/2\n",
      "Area of Triangle :  544.0\n",
      "Height1:2\n",
      "Height2:4\n",
      "Breadth:4\n",
      "Perimeter_formula = Height1+Height2+Breadth\n",
      "Perimeter of Triangle :  10\n"
     ]
    }
   ],
   "source": [
    "triangle()"
   ]
  },
  {
   "cell_type": "code",
   "execution_count": null,
   "id": "f20a3919",
   "metadata": {},
   "outputs": [],
   "source": []
  }
 ],
 "metadata": {
  "kernelspec": {
   "display_name": "Python 3 (ipykernel)",
   "language": "python",
   "name": "python3"
  },
  "language_info": {
   "codemirror_mode": {
    "name": "ipython",
    "version": 3
   },
   "file_extension": ".py",
   "mimetype": "text/x-python",
   "name": "python",
   "nbconvert_exporter": "python",
   "pygments_lexer": "ipython3",
   "version": "3.11.5"
  }
 },
 "nbformat": 4,
 "nbformat_minor": 5
}
