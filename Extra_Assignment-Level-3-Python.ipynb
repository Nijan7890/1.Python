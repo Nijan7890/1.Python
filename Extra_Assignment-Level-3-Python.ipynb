{
 "cells": [
  {
   "cell_type": "code",
   "execution_count": 7,
   "id": "5a36d464",
   "metadata": {},
   "outputs": [
    {
     "name": "stdout",
     "output_type": "stream",
     "text": [
      "value : 10\n",
      "Correct\n"
     ]
    }
   ],
   "source": [
    "####1.print 'CORRECT' if i == 10#####\n",
    "i= int(input(\"value : \"))\n",
    "if (i==10):\n",
    "    print (\"Correct\")\n",
    "else:\n",
    "    print(\"Not correct\")"
   ]
  },
  {
   "cell_type": "code",
   "execution_count": 22,
   "id": "3b180085",
   "metadata": {},
   "outputs": [
    {
     "name": "stdout",
     "output_type": "stream",
     "text": [
      "Enter the password:HOPE@123\n",
      "Your password is correct\n"
     ]
    }
   ],
   "source": [
    "####2.Check the password, using if and else HOPE@123####\n",
    "password = input(\"Enter the password:\")\n",
    "password1= \"HOPE@123\"\n",
    "if(password==password1):\n",
    "    print(\"Your password is correct\")\n",
    "else:\n",
    "    print (\"Wrong\")"
   ]
  },
  {
   "cell_type": "code",
   "execution_count": 24,
   "id": "f65bd11f",
   "metadata": {},
   "outputs": [
    {
     "name": "stdout",
     "output_type": "stream",
     "text": [
      "Enter the age : 20\n",
      "adult\n"
     ]
    }
   ],
   "source": [
    "####3.Catagory the people by their age like children, adult, citizen, senior citizen...####\n",
    "age = int(input(\"Enter the age : \"))\n",
    "if(age<18):\n",
    "    print (\"children\")\n",
    "elif(age<35):\n",
    "    print(\"adult\")\n",
    "elif(age<59):\n",
    "    print(\"citizen\")\n",
    "else:\n",
    "    print(\"Senior citizen\")"
   ]
  },
  {
   "cell_type": "code",
   "execution_count": 35,
   "id": "3d659080",
   "metadata": {},
   "outputs": [
    {
     "name": "stdout",
     "output_type": "stream",
     "text": [
      "Enter any number: 1\n",
      "No is positive\n"
     ]
    }
   ],
   "source": [
    "####4.Find whether given number is positive or negative####\n",
    "import re\n",
    "Number = input(\"Enter any number: \")\n",
    "if not re.search(\"[-]\",Number):\n",
    "    print (\"No is positive\")\n",
    "else:\n",
    "    print(\"Negative\")"
   ]
  },
  {
   "cell_type": "code",
   "execution_count": null,
   "id": "85a10b80",
   "metadata": {},
   "outputs": [],
   "source": [
    "####5.Check whether the given number is divisible by 5####\n",
    "Num_Check = int(input(\"Enter a number to check: \"))\n",
    "if(Num_Check%5)==0:\n",
    "    print(\"It is divisible by 5\")\n",
    "else:\n",
    "    print(\"No is not divisible by 5\")"
   ]
  },
  {
   "cell_type": "code",
   "execution_count": null,
   "id": "53c9b691",
   "metadata": {},
   "outputs": [],
   "source": []
  }
 ],
 "metadata": {
  "kernelspec": {
   "display_name": "Python 3 (ipykernel)",
   "language": "python",
   "name": "python3"
  },
  "language_info": {
   "codemirror_mode": {
    "name": "ipython",
    "version": 3
   },
   "file_extension": ".py",
   "mimetype": "text/x-python",
   "name": "python",
   "nbconvert_exporter": "python",
   "pygments_lexer": "ipython3",
   "version": "3.11.5"
  }
 },
 "nbformat": 4,
 "nbformat_minor": 5
}
