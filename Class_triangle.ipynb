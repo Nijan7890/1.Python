{
 "cells": [
  {
   "cell_type": "code",
   "execution_count": 2,
   "id": "4eec8438",
   "metadata": {},
   "outputs": [],
   "source": [
    "##SYNTAX - from filename import classname####\n",
    "from ClassFunctions import SubfieldsInAI"
   ]
  },
  {
   "cell_type": "code",
   "execution_count": 3,
   "id": "0d8fdaac",
   "metadata": {},
   "outputs": [
    {
     "name": "stdout",
     "output_type": "stream",
     "text": [
      "Height1:32\n",
      "Breadth:34\n",
      "Area_formula= (Height*Breadth)/2\n",
      "Area of Triangle :  544.0\n",
      "Height1:2\n",
      "Height2:4\n",
      "Breadth:4\n",
      "Perimeter_formula = Height1+Height2+Breadth\n",
      "Perimeter of Triangle :  10\n"
     ]
    }
   ],
   "source": [
    "SubfieldsInAI.triangle()"
   ]
  },
  {
   "cell_type": "code",
   "execution_count": null,
   "id": "cabf0391",
   "metadata": {},
   "outputs": [],
   "source": []
  }
 ],
 "metadata": {
  "kernelspec": {
   "display_name": "Python 3 (ipykernel)",
   "language": "python",
   "name": "python3"
  },
  "language_info": {
   "codemirror_mode": {
    "name": "ipython",
    "version": 3
   },
   "file_extension": ".py",
   "mimetype": "text/x-python",
   "name": "python",
   "nbconvert_exporter": "python",
   "pygments_lexer": "ipython3",
   "version": "3.11.5"
  }
 },
 "nbformat": 4,
 "nbformat_minor": 5
}
