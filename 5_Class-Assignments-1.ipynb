{
 "cells": [
  {
   "cell_type": "code",
   "execution_count": 64,
   "id": "e56c725a",
   "metadata": {},
   "outputs": [],
   "source": [
    "##SYNTAX - from filename import classname####\n",
    "from ClassFunctions import SubfieldsInAI"
   ]
  },
  {
   "cell_type": "code",
   "execution_count": 67,
   "id": "ad314d60",
   "metadata": {},
   "outputs": [
    {
     "name": "stdout",
     "output_type": "stream",
     "text": [
      "Machine Learning\n",
      "Neural Networks\n",
      "Vision\n",
      "Robotics\n",
      "Speech Processing\n"
     ]
    }
   ],
   "source": [
    "SubfieldsInAI.listing()"
   ]
  },
  {
   "cell_type": "code",
   "execution_count": null,
   "id": "9dd2c4c1",
   "metadata": {},
   "outputs": [],
   "source": []
  }
 ],
 "metadata": {
  "kernelspec": {
   "display_name": "Python 3 (ipykernel)",
   "language": "python",
   "name": "python3"
  },
  "language_info": {
   "codemirror_mode": {
    "name": "ipython",
    "version": 3
   },
   "file_extension": ".py",
   "mimetype": "text/x-python",
   "name": "python",
   "nbconvert_exporter": "python",
   "pygments_lexer": "ipython3",
   "version": "3.11.5"
  }
 },
 "nbformat": 4,
 "nbformat_minor": 5
}
