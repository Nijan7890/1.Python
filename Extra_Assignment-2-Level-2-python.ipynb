{
 "cells": [
  {
   "cell_type": "code",
   "execution_count": 1,
   "id": "77d6353a",
   "metadata": {},
   "outputs": [
    {
     "name": "stdout",
     "output_type": "stream",
     "text": [
      "0\n",
      "1\n",
      "2\n",
      "3\n",
      "4\n",
      "5\n",
      "6\n",
      "7\n",
      "8\n",
      "9\n",
      "10\n",
      "11\n",
      "12\n",
      "13\n",
      "14\n",
      "15\n",
      "16\n",
      "17\n",
      "18\n",
      "19\n"
     ]
    }
   ],
   "source": [
    "####1. print 0 to 20 by using range####\n",
    "for i in range(0,20):\n",
    "    print(i)"
   ]
  },
  {
   "cell_type": "code",
   "execution_count": 3,
   "id": "7671a8a7",
   "metadata": {},
   "outputs": [
    {
     "name": "stdout",
     "output_type": "stream",
     "text": [
      "10\n",
      "11\n",
      "12\n",
      "13\n",
      "14\n",
      "15\n",
      "16\n",
      "17\n",
      "18\n",
      "19\n"
     ]
    }
   ],
   "source": [
    "####2.print range 10 to 20#####\n",
    "for j in range(10,20):\n",
    "    print(j)"
   ]
  },
  {
   "cell_type": "code",
   "execution_count": 6,
   "id": "837b7d39",
   "metadata": {},
   "outputs": [
    {
     "name": "stdout",
     "output_type": "stream",
     "text": [
      "Number of item in the List2:  7\n"
     ]
    }
   ],
   "source": [
    "####3.Print number of items in the list by using 'len'####\n",
    "lists = [10, 20, 14, 55, 43, 87, 76]\n",
    "print (\"Number of item in the List2: \",len(lists))"
   ]
  },
  {
   "cell_type": "code",
   "execution_count": 11,
   "id": "438e1523",
   "metadata": {},
   "outputs": [
    {
     "name": "stdout",
     "output_type": "stream",
     "text": [
      "A\n",
      "r\n",
      "t\n",
      "i\n",
      "f\n",
      "i\n",
      "c\n",
      "i\n",
      "a\n",
      "l\n",
      " \n",
      "I\n",
      "n\n",
      "t\n",
      "e\n",
      "l\n",
      "l\n",
      "i\n",
      "g\n",
      "e\n",
      "n\n",
      "c\n",
      "e\n"
     ]
    }
   ],
   "source": [
    "####4.Artificial Intelligence####\n",
    "lists1=(\"Artificial Intelligence\")\n",
    "for i in lists1:\n",
    "         print(i)"
   ]
  },
  {
   "cell_type": "code",
   "execution_count": 12,
   "id": "b5f126ae",
   "metadata": {},
   "outputs": [
    {
     "name": "stdout",
     "output_type": "stream",
     "text": [
      "-Your Name- Nijan\n",
      "-Your Age- 33\n",
      "-Your Profession- Working\n"
     ]
    }
   ],
   "source": [
    "####5.Name,Age,Profession####\n",
    "print(\"-Your Name- Nijan\")\n",
    "print(\"-Your Age- 33\")\n",
    "print(\"-Your Profession- Working\")"
   ]
  },
  {
   "cell_type": "code",
   "execution_count": 13,
   "id": "25d2b41b",
   "metadata": {},
   "outputs": [
    {
     "name": "stdout",
     "output_type": "stream",
     "text": [
      "(1, 'Welcome', 2, 'Hope')\n"
     ]
    }
   ],
   "source": [
    "####6.Creating a Tuple with Mixed Datatype####\n",
    "DT = (1, 'Welcome', 2, 'Hope')\n",
    "print (DT)"
   ]
  },
  {
   "cell_type": "code",
   "execution_count": 14,
   "id": "b81cec48",
   "metadata": {},
   "outputs": [
    {
     "name": "stdout",
     "output_type": "stream",
     "text": [
      "((0, 1, 2, 3), ('python', 'HOPE'))\n"
     ]
    }
   ],
   "source": [
    "####7.Creating a Tuple with nested tuples####\n",
    "Tuple1 = (0, 1, 2, 3)\n",
    "Tuple2 = ('python', 'HOPE')\n",
    "Tuple3 = (Tuple1,Tuple2)\n",
    "print(Tuple3)"
   ]
  },
  {
   "cell_type": "code",
   "execution_count": 41,
   "id": "f2c5d910",
   "metadata": {},
   "outputs": [
    {
     "name": "stdout",
     "output_type": "stream",
     "text": [
      "19  is odd\n",
      "25  is odd\n",
      "1  is odd\n"
     ]
    }
   ],
   "source": [
    "####8.print Odd Numbers in the list####\n",
    "num_list = (20,10,16,19,25,1,276,188)\n",
    "for i in num_list:\n",
    "    if((i%2)==1):\n",
    "        print(i,\" is odd\")"
   ]
  },
  {
   "cell_type": "code",
   "execution_count": 42,
   "id": "13f9df69",
   "metadata": {},
   "outputs": [
    {
     "name": "stdout",
     "output_type": "stream",
     "text": [
      "20  is Even\n",
      "10  is Even\n",
      "16  is Even\n",
      "276  is Even\n",
      "188  is Even\n"
     ]
    }
   ],
   "source": [
    "####8.print Even Numbers in the list####\n",
    "num_list = (20,10,16,19,25,1,276,188)\n",
    "for i in num_list:\n",
    "    if((i%2)==0):\n",
    "        print(i,\" is Even\")"
   ]
  },
  {
   "cell_type": "code",
   "execution_count": null,
   "id": "ec68a557",
   "metadata": {},
   "outputs": [],
   "source": []
  }
 ],
 "metadata": {
  "kernelspec": {
   "display_name": "Python 3 (ipykernel)",
   "language": "python",
   "name": "python3"
  },
  "language_info": {
   "codemirror_mode": {
    "name": "ipython",
    "version": 3
   },
   "file_extension": ".py",
   "mimetype": "text/x-python",
   "name": "python",
   "nbconvert_exporter": "python",
   "pygments_lexer": "ipython3",
   "version": "3.11.5"
  }
 },
 "nbformat": 4,
 "nbformat_minor": 5
}
